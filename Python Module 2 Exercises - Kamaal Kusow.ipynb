{
 "cells": [
  {
   "cell_type": "markdown",
   "metadata": {},
   "source": [
    "1. Print out a data type of a variable?"
   ]
  },
  {
   "cell_type": "code",
   "execution_count": 4,
   "metadata": {},
   "outputs": [
    {
     "data": {
      "text/plain": [
       "str"
      ]
     },
     "execution_count": 4,
     "metadata": {},
     "output_type": "execute_result"
    }
   ],
   "source": [
    "message = \"weak\"\n",
    "type(message)"
   ]
  },
  {
   "cell_type": "markdown",
   "metadata": {},
   "source": [
    "2. Round 4.5667 to the nearest hundreth using a build-in function, round()."
   ]
  },
  {
   "cell_type": "code",
   "execution_count": 6,
   "metadata": {},
   "outputs": [
    {
     "data": {
      "text/plain": [
       "4.567"
      ]
     },
     "execution_count": 6,
     "metadata": {},
     "output_type": "execute_result"
    }
   ],
   "source": [
    "round(4.5667, 3)"
   ]
  },
  {
   "cell_type": "markdown",
   "metadata": {},
   "source": [
    "3. Convert \"657\" to an integer data type"
   ]
  },
  {
   "cell_type": "code",
   "execution_count": 7,
   "metadata": {},
   "outputs": [
    {
     "name": "stdout",
     "output_type": "stream",
     "text": [
      "657\n",
      "str_var1's value is 657 and type is <class 'str'>\n",
      "num_var1's value is 657 and type is <class 'int'>\n"
     ]
    }
   ],
   "source": [
    "str_var1 = \"657\"\n",
    "num_var1 = int(str_var1)\n",
    "print(num_var1)\n",
    "print(f\"str_var1's value is {str_var1} and type is {type(str_var1)}\")\n",
    "print(f\"num_var1's value is {num_var1} and type is {type(num_var1)}\")"
   ]
  },
  {
   "cell_type": "markdown",
   "metadata": {},
   "source": [
    "4. Write a function to calculate the miles per gallon.\n",
    "Get a miles driven and gallons used from a user and call your function to calculate the miles per gallon. "
   ]
  },
  {
   "cell_type": "code",
   "execution_count": 8,
   "metadata": {},
   "outputs": [
    {
     "name": "stdout",
     "output_type": "stream",
     "text": [
      "The Milers Per Gallon Program\n",
      "\n",
      "Enter miles driven:\t\t15000\n",
      "Enter gallons of gas used:\t1000\n",
      "\n",
      "Miles per Gallon:\t\t15.0\n"
     ]
    }
   ],
   "source": [
    "# Disply a title\n",
    "print(\"The Milers Per Gallon Program\\n\")\n",
    "\n",
    "# Get input from the user\n",
    "miles_driven = float(input(\"Enter miles driven:\\t\\t\"))\n",
    "gallons_used = float(input(\"Enter gallons of gas used:\\t\"))\n",
    "\n",
    "# Compute\n",
    "mpg = miles_driven / gallons_used\n",
    "mpg = round(mpg, 2)\n",
    "\n",
    "# Display the result\n",
    "print(f\"\\nMiles per Gallon:\\t\\t{mpg}\")"
   ]
  },
  {
   "cell_type": "markdown",
   "metadata": {},
   "source": [
    "5. Enhance your function from exercise 3. Additionally, get a gas price per gallon from a user and write a program to compute the total gas cost and cost per mile. \n",
    "\n",
    "The output should look something like this:\n",
    "\n",
    "    Enter miles driven:            150\n",
    "    Enter gallons of gas used:     15\n",
    "    Enter cost per gallon:          3\n",
    "\n",
    "    Miles Per Gallon:   10.0\n",
    "    Total Gas Cost:     45.0\n",
    "    Cost per Mile:      0.3\n"
   ]
  },
  {
   "cell_type": "code",
   "execution_count": 10,
   "metadata": {},
   "outputs": [
    {
     "name": "stdout",
     "output_type": "stream",
     "text": [
      "The Milers Per Gallon Program\n",
      "\n",
      "Enter miles driven:\t\t12000\n",
      "Enter gallons of gas used:\t2000\n",
      "Enter cost per gallon:\t\t5.76\n",
      "\n",
      "Miles per Gallon:\t\t6.0\n",
      "Total Gas Cost:\t\t\t11520.0\n",
      "Cost Per Mile:\t\t\t0.96\n"
     ]
    }
   ],
   "source": [
    "# Disply a title\n",
    "print(\"The Milers Per Gallon Program\\n\")\n",
    "\n",
    "# Get input from the user\n",
    "miles_driven = float(input(\"Enter miles driven:\\t\\t\"))\n",
    "gallons_used = float(input(\"Enter gallons of gas used:\\t\"))\n",
    "cost_per_gallon = float(input(\"Enter cost per gallon:\\t\\t\"))\n",
    "\n",
    "# Compute\n",
    "mpg = miles_driven / gallons_used\n",
    "mpg = round(mpg, 2)\n",
    "total_cost = round(cost_per_gallon * gallons_used, 2)\n",
    "cost_per_mile = round(total_cost / miles_driven, 2)\n",
    "\n",
    "# Display the result\n",
    "print(f\"\\nMiles per Gallon:\\t\\t{mpg}\")\n",
    "print(f\"Total Gas Cost:\\t\\t\\t{total_cost}\")\n",
    "print(f\"Cost Per Mile:\\t\\t\\t{cost_per_mile}\")"
   ]
  },
  {
   "cell_type": "markdown",
   "metadata": {},
   "source": [
    "6. Write a function called multiply_two() that accepts two parameters. The function should print a message like '15 + 2 = 17'.  Randomly generate two numbers between 1 and 100, then call the function with the two random numbers."
   ]
  },
  {
   "cell_type": "code",
   "execution_count": 11,
   "metadata": {},
   "outputs": [
    {
     "name": "stdout",
     "output_type": "stream",
     "text": [
      "81 + 53 = 134\n"
     ]
    }
   ],
   "source": [
    "import random as rand\n",
    "\n",
    "def multiply_two(parm1, parm2) :\n",
    "    print(f\"{parm1} + {parm2} = {parm1+parm2}\")\n",
    "    \n",
    "multiply_two(rand.randint(1,100), rand.randint(1,100)) "
   ]
  },
  {
   "cell_type": "markdown",
   "metadata": {},
   "source": [
    "7. Write a function called make_shirt() that accepts a size and the text of a message. The function should print a sentence summarizing the size of the shirt and the message printed on it. The default shirt size is large and default message is 'I love Python!' Make a default size shirt with a message, a medium shirt with the default message, and a shirt of any size with a different message."
   ]
  },
  {
   "cell_type": "code",
   "execution_count": 14,
   "metadata": {},
   "outputs": [
    {
     "name": "stdout",
     "output_type": "stream",
     "text": [
      "This is size large!\n",
      "Do you play video games?\n",
      "\n",
      "This is size medium!\n",
      "I like to play video games with friends.\n",
      "\n",
      "This is size small!\n",
      "Playstation Controller\n",
      "\n"
     ]
    }
   ],
   "source": [
    "def make_shirt(size=\"large\", message=\"I like to play video games with friends.\") :\n",
    "    print(f\"This is size {size}!\\n{message}\")\n",
    "    print()\n",
    "    \n",
    "\n",
    "make_shirt(message = \"Do you play video games?\")\n",
    "make_shirt(size = \"medium\")\n",
    "make_shirt(\"small\", \"Playstation Controller\") "
   ]
  },
  {
   "cell_type": "markdown",
   "metadata": {},
   "source": [
    "8. Create a function for a multiplication table.  Get a number from a user and then call you function which produces a multiplication table for that number.\n",
    "The output should look something like this:\n",
    "\n",
    "        Enter a number: 3\n",
    "        3 X 1 = 3\n",
    "        3 X 2 = 6\n",
    "        3 X 3 = 9\n",
    "        3 X 4 = 12\n",
    "        3 X 5 = 15\n",
    "        3 X 6 = 18\n",
    "        3 X 7 = 21\n",
    "        3 X 8 = 24\n",
    "        3 X 9 = 27\n",
    "        "
   ]
  },
  {
   "cell_type": "code",
   "execution_count": 15,
   "metadata": {},
   "outputs": [
    {
     "name": "stdout",
     "output_type": "stream",
     "text": [
      "Enter a number: 120\n",
      "120 X 1 = 120\n",
      "120 X 2 = 240\n",
      "120 X 3 = 360\n",
      "120 X 4 = 480\n",
      "120 X 5 = 600\n",
      "120 X 6 = 720\n",
      "120 X 7 = 840\n",
      "120 X 8 = 960\n",
      "120 X 9 = 1080\n"
     ]
    }
   ],
   "source": [
    "def multiplication(numb) :\n",
    "    print(f\"{numb} X 1 = {numb*1}\")\n",
    "    print(f\"{numb} X 2 = {numb*2}\")\n",
    "    print(f\"{numb} X 3 = {numb*3}\")\n",
    "    print(f\"{numb} X 4 = {numb*4}\")\n",
    "    print(f\"{numb} X 5 = {numb*5}\")\n",
    "    print(f\"{numb} X 6 = {numb*6}\")\n",
    "    print(f\"{numb} X 7 = {numb*7}\")\n",
    "    print(f\"{numb} X 8 = {numb*8}\")\n",
    "    print(f\"{numb} X 9 = {numb*9}\")\n",
    "    return\n",
    "\n",
    "no = int(input(\"Enter a number: \"))\n",
    "multiplication(no)"
   ]
  },
  {
   "cell_type": "markdown",
   "metadata": {},
   "source": [
    "9. Write a function that accepts a string and returns a string that is \n",
    "    - without any leading nor trailing blanks\n",
    "    - converts to all capital letters\n",
    "    - and replaces all blanks with a period(.).  \n",
    "\n",
    "Write a program to accept a string from a user then call your function and display the original string and changed string.  \n",
    "\n",
    "The output should look something like this:\n",
    "\n",
    "        Enter a text: may your dreams come true\n",
    "        \n",
    "        Original Text: may your dreams come true\n",
    "        New Text: MAY.YOUR.DREAMS.COME.TRUE"
   ]
  },
  {
   "cell_type": "code",
   "execution_count": null,
   "metadata": {},
   "outputs": [],
   "source": [
    "def convert_text(org_text) :\n",
    "    temp_str = org_text.strip()\n",
    "    temp_str = temp_str.upper()\n",
    "    temp_str = temp_str.replace(\" \", \".\")\n",
    "    return temp_str\n",
    "\n",
    "\n",
    "user_text = input(\"Enter a text: \")\n",
    "new_text = convert_text(user_text)\n",
    "print(f\"Original Text:\\t{user_text}\\nNew Text:\\t{new_text}\")"
   ]
  },
  {
   "cell_type": "markdown",
   "metadata": {},
   "source": [
    "10. Write a function that returns a randomly selected character from a passed string. Write a program to accept a string from a user then call your function and display the original string and selected character.\n",
    "\n",
    "The output should look something like this:\n",
    "\n",
    "        Enter a text: functions\n",
    "        Original Text:\tfunctions\n",
    "        Random character:\ts"
   ]
  },
  {
   "cell_type": "code",
   "execution_count": null,
   "metadata": {},
   "outputs": [],
   "source": [
    "import random as rand\n",
    "\n",
    "def random_text(org_text) :\n",
    "    str_length = len(org_text)\n",
    "    index = rand.randint(0, str_length-1)\n",
    "    new_text = org_text[index]\n",
    "    return new_text\n",
    "\n",
    "user_text = input(\"Enter a text: \")\n",
    "new_text = random_text(user_text)\n",
    "print(f\"Original Text:\\t{user_text}\\nRandom character:\\t{new_text}\")"
   ]
  }
 ],
 "metadata": {
  "kernelspec": {
   "display_name": "Python 3",
   "language": "python",
   "name": "python3"
  },
  "language_info": {
   "codemirror_mode": {
    "name": "ipython",
    "version": 3
   },
   "file_extension": ".py",
   "mimetype": "text/x-python",
   "name": "python",
   "nbconvert_exporter": "python",
   "pygments_lexer": "ipython3",
   "version": "3.8.8"
  }
 },
 "nbformat": 4,
 "nbformat_minor": 4
}
