{
 "cells": [
  {
   "cell_type": "markdown",
   "metadata": {},
   "source": [
    "Exercise 1: Make an empty list and call it names"
   ]
  },
  {
   "cell_type": "code",
   "execution_count": 1,
   "metadata": {},
   "outputs": [
    {
     "name": "stdout",
     "output_type": "stream",
     "text": [
      "[]\n",
      "3\n"
     ]
    }
   ],
   "source": [
    "names = []\n",
    "print(names)\n",
    "print(1+2)"
   ]
  },
  {
   "cell_type": "markdown",
   "metadata": {},
   "source": [
    "Exercise 2: Make names filled with names of 5 people: Hannah, Victor, Sam, James, Sarah"
   ]
  },
  {
   "cell_type": "code",
   "execution_count": 9,
   "metadata": {},
   "outputs": [
    {
     "name": "stdout",
     "output_type": "stream",
     "text": [
      "['Hannah', 'Victor', 'Sam', 'James', 'Sarah', 'Hannah', 'Victor', 'Sam', 'James', 'Sarah', 'Hannah', 'Victor', 'Sam', 'James', 'Sarah', 'Hannah', 'Victor', 'Sam', 'James', 'Sarah', 'Hannah', 'Victor', 'Sam', 'James', 'Sarah', 'Hannah', 'Victor', 'Sam', 'James', 'Sarah', 'Hannah', 'Victor', 'Sam', 'James', 'Sarah']\n"
     ]
    }
   ],
   "source": [
    "names.append(\"Hannah\")\n",
    "names.append(\"Victor\")\n",
    "names.append(\"Sam\")\n",
    "names.append(\"James\")\n",
    "names.append(\"Sarah\")\n",
    "print(names)"
   ]
  },
  {
   "cell_type": "code",
   "execution_count": null,
   "metadata": {},
   "outputs": [],
   "source": []
  },
  {
   "cell_type": "markdown",
   "metadata": {},
   "source": [
    "Exercise 3: Make names sort in reverse. Print out the list using a for-loop"
   ]
  },
  {
   "cell_type": "code",
   "execution_count": null,
   "metadata": {},
   "outputs": [],
   "source": [
    "names.sort(reverse=True)\n",
    "for name in names :\n",
    "    print(name)"
   ]
  },
  {
   "cell_type": "markdown",
   "metadata": {},
   "source": [
    "Exercise 4: Make names sorted alphabetically. Print out the list using while loop"
   ]
  },
  {
   "cell_type": "code",
   "execution_count": null,
   "metadata": {},
   "outputs": [],
   "source": [
    "names.sort()\n",
    "print(names)\n",
    "maxno = len(names)\n",
    "i = 0\n",
    "while i < maxno :\n",
    "    print(names[i])\n",
    "    i += 1"
   ]
  },
  {
   "cell_type": "markdown",
   "metadata": {},
   "source": [
    "Exercise 5: Pull out the fourth item from names and print it out"
   ]
  },
  {
   "cell_type": "code",
   "execution_count": null,
   "metadata": {},
   "outputs": [],
   "source": [
    "name = names.pop(3)\n",
    "print(name)\n",
    "print(names)"
   ]
  },
  {
   "cell_type": "markdown",
   "metadata": {},
   "source": [
    "Exercise 6: Pull out the first item from names and print it out"
   ]
  },
  {
   "cell_type": "code",
   "execution_count": null,
   "metadata": {},
   "outputs": [],
   "source": [
    "name = names.pop(0)\n",
    "print(name)\n",
    "print(names)"
   ]
  },
  {
   "cell_type": "markdown",
   "metadata": {},
   "source": [
    "Exercise 7: Make a variable named fruits that contains a string \"Apples, Oranges, Bananas, Pineapples, Persimmons, Dragonfruit\" and make it into a list splitting it by the commas."
   ]
  },
  {
   "cell_type": "code",
   "execution_count": null,
   "metadata": {},
   "outputs": [],
   "source": [
    "fruits = \"Apples, Oranges, Bananas, Pineapples, Persimmons, Dragonfruit\"\n",
    "fruit_list = fruits.split(', ')\n",
    "print(fruit_list)"
   ]
  },
  {
   "cell_type": "markdown",
   "metadata": {},
   "source": [
    "Exercise 8: Create a list of the first 10 square numbers. i.e. the square of each integer from 1 to 10. "
   ]
  },
  {
   "cell_type": "code",
   "execution_count": null,
   "metadata": {},
   "outputs": [],
   "source": [
    "squares = []\n",
    "for value in range(1, 11) :\n",
    "    square = value ** 2\n",
    "    squares.append(square)\n",
    "    \n",
    "print(squares)    "
   ]
  },
  {
   "cell_type": "markdown",
   "metadata": {},
   "source": [
    "Exercise 9: Create a multiplication table from 1 to 10"
   ]
  },
  {
   "cell_type": "code",
   "execution_count": null,
   "metadata": {},
   "outputs": [],
   "source": [
    "for i in range(1, 11) :\n",
    "    for j in range(1, 11) :\n",
    "        k = i * j\n",
    "        print(f\"{k}\\t\", end=' ')\n",
    "    print()    "
   ]
  },
  {
   "cell_type": "markdown",
   "metadata": {},
   "source": [
    "Exercise 10: Write a program that gets test scores from a user and then calculates and displays the average of the scores that have been enter. The output of the program should show the original scores and the average. "
   ]
  },
  {
   "cell_type": "code",
   "execution_count": null,
   "metadata": {},
   "outputs": [],
   "source": [
    "scores = []\n",
    "total = 0\n",
    "no_scores = 0\n",
    "\n",
    "while True :\n",
    "    score = input(\"Enter a test score or 'q' to quit: \")\n",
    "    if score.lower() == 'q' :\n",
    "        break\n",
    "    \n",
    "    scores.append(score)\n",
    "    total += float(score)\n",
    "    no_scores += 1\n",
    "\n",
    "if no_scores == 0 :\n",
    "    avg = 0\n",
    "else :\n",
    "    avg = total / no_scores\n",
    "    \n",
    "print(f\"\\nAll scores: {scores}\")\n",
    "print(f\"Average score: {avg:.2f}\")"
   ]
  },
  {
   "cell_type": "markdown",
   "metadata": {},
   "source": [
    "Challenge:\n",
    "Write a program that maintains a list of movies, and the user can list all the movies, add a movie to the list, or delete a movie from the list.\n",
    "\n",
    "Example\n",
    "\n",
    "###### COMMAND MENU\n",
    "```\n",
    "list - list all movies\n",
    "add - add a movie\n",
    "del - delete a movie\n",
    "exit - exit program \n",
    "```\n",
    "\n",
    "###### Command: list\n",
    "``` \n",
    " 1. Toy Story\n",
    " 2. Lion King\n",
    " 3. Frozen\n",
    " ```\n",
    "\n",
    "###### Command: add\n",
    " ```\n",
    " Name: Snow White\n",
    " Snow White was added.\n",
    " ```\n",
    "\n",
    "###### Command: del\n",
    "```\n",
    " Number: 3\n",
    " Frozen was deleted.```\n",
    "\n"
   ]
  },
  {
   "cell_type": "code",
   "execution_count": null,
   "metadata": {},
   "outputs": [],
   "source": []
  },
  {
   "cell_type": "code",
   "execution_count": null,
   "metadata": {},
   "outputs": [],
   "source": []
  }
 ],
 "metadata": {
  "kernelspec": {
   "display_name": "Python 3",
   "language": "python",
   "name": "python3"
  },
  "language_info": {
   "codemirror_mode": {
    "name": "ipython",
    "version": 3
   },
   "file_extension": ".py",
   "mimetype": "text/x-python",
   "name": "python",
   "nbconvert_exporter": "python",
   "pygments_lexer": "ipython3",
   "version": "3.8.8"
  }
 },
 "nbformat": 4,
 "nbformat_minor": 4
}
